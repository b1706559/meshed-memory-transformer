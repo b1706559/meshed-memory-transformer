{
  "nbformat": 4,
  "nbformat_minor": 0,
  "metadata": {
    "colab": {
      "name": "xulycaptionFlickr30k.ipynb",
      "provenance": [],
      "collapsed_sections": [],
      "authorship_tag": "ABX9TyPNUwxERekuMyF1doVRf1gy",
      "include_colab_link": true
    },
    "kernelspec": {
      "name": "python3",
      "display_name": "Python 3"
    },
    "language_info": {
      "name": "python"
    }
  },
  "cells": [
    {
      "cell_type": "markdown",
      "metadata": {
        "id": "view-in-github",
        "colab_type": "text"
      },
      "source": [
        "<a href=\"https://colab.research.google.com/github/b1706559/meshed-memory-transformer/blob/main/xulycaptionFlickr30k.ipynb\" target=\"_parent\"><img src=\"https://colab.research.google.com/assets/colab-badge.svg\" alt=\"Open In Colab\"/></a>"
      ]
    },
    {
      "cell_type": "code",
      "metadata": {
        "id": "cGbD2lXcEx6a"
      },
      "source": [
        "with open('12kdongdau.txt') as f:\n",
        "    lines = f.readlines()"
      ],
      "execution_count": 1,
      "outputs": []
    },
    {
      "cell_type": "code",
      "metadata": {
        "id": "YdPtcdrnFODh"
      },
      "source": [
        "len(lines)"
      ],
      "execution_count": null,
      "outputs": []
    },
    {
      "cell_type": "code",
      "metadata": {
        "id": "YTNRNc73GDUr"
      },
      "source": [
        "newlines = []\n",
        "for line in lines:\n",
        "    line = line.replace(\"\\t\", \"\")\n",
        "    line1 = line.replace(\"  \",\"\")\n",
        "    line2 = line1.replace(\"   \",\"\")\n",
        "    line3 = line2.replace(\"    \",\"\")\n",
        "    line4 = line3.replace(\"     \",\"\")\n",
        "    line5 = line4.replace(\"      \",\"\")\n",
        "    newlines.append(line4)"
      ],
      "execution_count": 93,
      "outputs": []
    },
    {
      "cell_type": "code",
      "metadata": {
        "id": "u1NTgdiD0C_6"
      },
      "source": [
        "newlines = []\n",
        "secondlines = []\n",
        "for line in lines:\n",
        "    sub = \"#\"\n",
        "    i = line.find(sub)\n",
        "    ids = line[0:i+2]\n",
        "    substring = line[i+2:]\n",
        "    substring1 = substring.lstrip()\n",
        "    fulltext = ids + '\\t' + substring1\n",
        "    newlines.append(fulltext)\n"
      ],
      "execution_count": 15,
      "outputs": []
    },
    {
      "cell_type": "code",
      "metadata": {
        "id": "NNxwfF-R5Zac"
      },
      "source": [
        "with open('new.txt', 'w') as wf:\n",
        "    for new in newlines:\n",
        "        wf.write(new)"
      ],
      "execution_count": 18,
      "outputs": []
    },
    {
      "cell_type": "code",
      "metadata": {
        "colab": {
          "base_uri": "https://localhost:8080/",
          "height": 38
        },
        "id": "U7zOubLzH-Nu",
        "outputId": "747dc006-844a-403c-fdbb-1cc90ef781f9"
      },
      "source": [
        "newlines[56]"
      ],
      "execution_count": 94,
      "outputs": [
        {
          "output_type": "execute_result",
          "data": {
            "application/vnd.google.colaboratory.intrinsic+json": {
              "type": "string"
            },
            "text/plain": [
              "'2696951725.jpg#1Một người đàn ông không mặc áo sơ mi đang dang rộng hai tay bên cạnh một người phụ nữ .\\n'"
            ]
          },
          "metadata": {},
          "execution_count": 94
        }
      ]
    },
    {
      "cell_type": "code",
      "metadata": {
        "colab": {
          "base_uri": "https://localhost:8080/"
        },
        "id": "_-10iHc_IEXl",
        "outputId": "500ea951-70df-483a-a90b-c70fe1315900"
      },
      "source": [
        "len(newlines)"
      ],
      "execution_count": 95,
      "outputs": [
        {
          "output_type": "execute_result",
          "data": {
            "text/plain": [
              "39648"
            ]
          },
          "metadata": {},
          "execution_count": 95
        }
      ]
    },
    {
      "cell_type": "code",
      "metadata": {
        "colab": {
          "base_uri": "https://localhost:8080/",
          "height": 38
        },
        "id": "PsOIOi0MIIG1",
        "outputId": "0e803d0c-548b-4bdf-90ee-90c58e685ec2"
      },
      "source": [
        "newlines[39647]"
      ],
      "execution_count": 96,
      "outputs": [
        {
          "output_type": "execute_result",
          "data": {
            "application/vnd.google.colaboratory.intrinsic+json": {
              "type": "string"
            },
            "text/plain": [
              "'3631029759.jpg#4Một người phụ nữ đang chụp ảnh mèo con trong hộp các-tông .'"
            ]
          },
          "metadata": {},
          "execution_count": 96
        }
      ]
    },
    {
      "cell_type": "code",
      "metadata": {
        "colab": {
          "base_uri": "https://localhost:8080/",
          "height": 38
        },
        "id": "m0MzQlP4P3E1",
        "outputId": "5a1240f9-fbd4-48b9-e188-d3fc18fffe5f"
      },
      "source": [
        "newlines[35676]"
      ],
      "execution_count": 99,
      "outputs": [
        {
          "output_type": "execute_result",
          "data": {
            "application/vnd.google.colaboratory.intrinsic+json": {
              "type": "string"
            },
            "text/plain": [
              "'3540241710.jpg#2 Một vận động viên trượt ván giữa không trung trên một đoạn đường dốc trong nhà .\\n'"
            ]
          },
          "metadata": {},
          "execution_count": 99
        }
      ]
    },
    {
      "cell_type": "code",
      "metadata": {
        "id": "w67MfaQKIqVq"
      },
      "source": [
        "with open('new.txt', 'w') as wf:\n",
        "    for new in newlines:\n",
        "        wf.write(new)"
      ],
      "execution_count": 98,
      "outputs": []
    }
  ]
}