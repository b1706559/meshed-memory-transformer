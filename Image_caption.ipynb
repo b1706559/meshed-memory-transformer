{
  "nbformat": 4,
  "nbformat_minor": 0,
  "metadata": {
    "colab": {
      "name": "Image_caption.ipynb",
      "provenance": [],
      "collapsed_sections": [],
      "authorship_tag": "ABX9TyOlqmIGnq1NmPfaSHRLXkl9",
      "include_colab_link": true
    },
    "kernelspec": {
      "name": "python3",
      "display_name": "Python 3"
    },
    "language_info": {
      "name": "python"
    }
  },
  "cells": [
    {
      "cell_type": "markdown",
      "metadata": {
        "id": "view-in-github",
        "colab_type": "text"
      },
      "source": [
        "<a href=\"https://colab.research.google.com/github/b1706559/meshed-memory-transformer/blob/main/Image_caption.ipynb\" target=\"_parent\"><img src=\"https://colab.research.google.com/assets/colab-badge.svg\" alt=\"Open In Colab\"/></a>"
      ]
    },
    {
      "cell_type": "code",
      "metadata": {
        "colab": {
          "base_uri": "https://localhost:8080/"
        },
        "id": "9jk35Ex9rvON",
        "outputId": "bae22d30-5010-43d6-b1dd-5a9950c2779d"
      },
      "source": [
        "!git clone https://github.com/ajamjoom/Image-Captions.git"
      ],
      "execution_count": 1,
      "outputs": [
        {
          "output_type": "stream",
          "text": [
            "Cloning into 'Image-Captions'...\n",
            "remote: Enumerating objects: 43, done.\u001b[K\n",
            "remote: Counting objects: 100% (3/3), done.\u001b[K\n",
            "remote: Compressing objects: 100% (3/3), done.\u001b[K\n",
            "remote: Total 43 (delta 0), reused 0 (delta 0), pack-reused 40\u001b[K\n",
            "Unpacking objects: 100% (43/43), done.\n"
          ],
          "name": "stdout"
        }
      ]
    },
    {
      "cell_type": "code",
      "metadata": {
        "id": "hc1APGZn0WEq"
      },
      "source": [
        ""
      ],
      "execution_count": null,
      "outputs": []
    },
    {
      "cell_type": "code",
      "metadata": {
        "id": "IeRgcf3Nr6w4"
      },
      "source": [
        "!mkdir data\n",
        "!mkdir checkpoints\n",
        "!mkdir glove.6B\n"
      ],
      "execution_count": 2,
      "outputs": []
    },
    {
      "cell_type": "code",
      "metadata": {
        "id": "exGRqmaVsQPt"
      },
      "source": [
        "!wget http://images.cocodataset.org/zips/train2014.zip"
      ],
      "execution_count": null,
      "outputs": []
    },
    {
      "cell_type": "code",
      "metadata": {
        "id": "CtU6G0k1uKYa"
      },
      "source": [
        "!wget http://images.cocodataset.org/zips/val2014.zip"
      ],
      "execution_count": null,
      "outputs": []
    },
    {
      "cell_type": "code",
      "metadata": {
        "id": "9WI6tPCouMAu"
      },
      "source": [
        "!wget http://images.cocodataset.org/annotations/annotations_trainval2014.zip"
      ],
      "execution_count": null,
      "outputs": []
    },
    {
      "cell_type": "code",
      "metadata": {
        "id": "GdSEVWppwuc-"
      },
      "source": [
        "!unzip train2014.zip"
      ],
      "execution_count": null,
      "outputs": []
    },
    {
      "cell_type": "code",
      "metadata": {
        "id": "x617GQAXyMrr"
      },
      "source": [
        "!unzip val2014.zip"
      ],
      "execution_count": null,
      "outputs": []
    },
    {
      "cell_type": "code",
      "metadata": {
        "colab": {
          "base_uri": "https://localhost:8080/"
        },
        "id": "Cg2bpVITzoJq",
        "outputId": "aa9d988b-a399-447c-8c4b-295b58a6f1c6"
      },
      "source": [
        "!unzip annotations_trainval2014.zip"
      ],
      "execution_count": 10,
      "outputs": [
        {
          "output_type": "stream",
          "text": [
            "Archive:  annotations_trainval2014.zip\n",
            "  inflating: annotations/instances_train2014.json  \n",
            "  inflating: annotations/instances_val2014.json  \n",
            "  inflating: annotations/person_keypoints_train2014.json  \n",
            "  inflating: annotations/person_keypoints_val2014.json  \n",
            "  inflating: annotations/captions_train2014.json  \n",
            "  inflating: annotations/captions_val2014.json  \n"
          ],
          "name": "stdout"
        }
      ]
    },
    {
      "cell_type": "code",
      "metadata": {
        "colab": {
          "base_uri": "https://localhost:8080/"
        },
        "id": "_19agZZW0Xle",
        "outputId": "7f58de7d-efea-4df8-9ce5-f6dfb72f8fb7"
      },
      "source": [
        "%cd ../content/\n"
      ],
      "execution_count": 35,
      "outputs": [
        {
          "output_type": "stream",
          "text": [
            "/content\n"
          ],
          "name": "stdout"
        }
      ]
    },
    {
      "cell_type": "code",
      "metadata": {
        "colab": {
          "base_uri": "https://localhost:8080/"
        },
        "id": "wvJwXSb-2NUp",
        "outputId": "a2b9a77c-a2e0-4114-bd1f-5cc7c0326885"
      },
      "source": [
        "!pwd\n",
        "!ls"
      ],
      "execution_count": 36,
      "outputs": [
        {
          "output_type": "stream",
          "text": [
            "/content\n",
            "checkpoints  glove.6B\t\tglove_embeds.py  sample_data\n",
            "data\t     glove.6B.100d.txt\tImage-Captions\n"
          ],
          "name": "stdout"
        }
      ]
    },
    {
      "cell_type": "code",
      "metadata": {
        "colab": {
          "base_uri": "https://localhost:8080/"
        },
        "id": "jDdINENE2ekV",
        "outputId": "40418f16-d7ba-4b72-cfcc-51f0b500bbda"
      },
      "source": [
        "pip install process-data"
      ],
      "execution_count": 38,
      "outputs": [
        {
          "output_type": "stream",
          "text": [
            "Collecting process-data\n",
            "  Downloading process_data-0.3-py3-none-any.whl (3.5 kB)\n",
            "Installing collected packages: process-data\n",
            "Successfully installed process-data-0.3\n"
          ],
          "name": "stdout"
        }
      ]
    },
    {
      "cell_type": "code",
      "metadata": {
        "colab": {
          "base_uri": "https://localhost:8080/"
        },
        "id": "RRjoadiV3Lp5",
        "outputId": "b1f6dcf8-0ece-45d2-8f98-5ba73391ab6e"
      },
      "source": [
        "pip install sklearn"
      ],
      "execution_count": 42,
      "outputs": [
        {
          "output_type": "stream",
          "text": [
            "Requirement already satisfied: sklearn in /usr/local/lib/python3.7/dist-packages (0.0)\n",
            "Requirement already satisfied: scikit-learn in /usr/local/lib/python3.7/dist-packages (from sklearn) (0.22.2.post1)\n",
            "Requirement already satisfied: joblib>=0.11 in /usr/local/lib/python3.7/dist-packages (from scikit-learn->sklearn) (1.0.1)\n",
            "Requirement already satisfied: scipy>=0.17.0 in /usr/local/lib/python3.7/dist-packages (from scikit-learn->sklearn) (1.4.1)\n",
            "Requirement already satisfied: numpy>=1.11.0 in /usr/local/lib/python3.7/dist-packages (from scikit-learn->sklearn) (1.19.5)\n"
          ],
          "name": "stdout"
        }
      ]
    },
    {
      "cell_type": "code",
      "metadata": {
        "colab": {
          "base_uri": "https://localhost:8080/"
        },
        "id": "wnDbrZo84rGt",
        "outputId": "f6cc4117-3dce-4793-ac2c-cf1a1c6edb10"
      },
      "source": [
        "#!pip install bcolz\n",
        "!pip install Vocabulary"
      ],
      "execution_count": 55,
      "outputs": [
        {
          "output_type": "stream",
          "text": [
            "Requirement already satisfied: Vocabulary in /usr/local/lib/python3.7/dist-packages (1.0.4)\n",
            "Requirement already satisfied: requests==2.13.0 in /usr/local/lib/python3.7/dist-packages (from Vocabulary) (2.13.0)\n",
            "Requirement already satisfied: mock==2.0.0 in /usr/local/lib/python3.7/dist-packages (from Vocabulary) (2.0.0)\n",
            "Requirement already satisfied: pbr>=0.11 in /usr/local/lib/python3.7/dist-packages (from mock==2.0.0->Vocabulary) (5.6.0)\n",
            "Requirement already satisfied: six>=1.9 in /usr/local/lib/python3.7/dist-packages (from mock==2.0.0->Vocabulary) (1.15.0)\n"
          ],
          "name": "stdout"
        }
      ]
    },
    {
      "cell_type": "code",
      "metadata": {
        "colab": {
          "base_uri": "https://localhost:8080/"
        },
        "id": "AdJOE7mf7SBz",
        "outputId": "fe60199f-4d4b-4744-da9f-7f09c8801450"
      },
      "source": [
        "%cd Image-Captions\n",
        "!ls"
      ],
      "execution_count": 71,
      "outputs": [
        {
          "output_type": "stream",
          "text": [
            "[Errno 2] No such file or directory: 'Image-Captions'\n",
            "/content/Image-Captions\n",
            "data_loader.py\t main_notebook.ipynb  processData.py\n",
            "glove_embeds.py  main.py\t      README.md\n"
          ],
          "name": "stdout"
        }
      ]
    },
    {
      "cell_type": "code",
      "metadata": {
        "colab": {
          "base_uri": "https://localhost:8080/"
        },
        "id": "IJCyKKbf-XuW",
        "outputId": "8739b955-7372-41ae-8dcf-dd1c4b40d928"
      },
      "source": [
        "!pip install bcolz"
      ],
      "execution_count": 77,
      "outputs": [
        {
          "output_type": "stream",
          "text": [
            "Requirement already satisfied: bcolz in /usr/local/lib/python3.7/dist-packages (1.2.1)\n",
            "Requirement already satisfied: numpy>=1.7 in /usr/local/lib/python3.7/dist-packages (from bcolz) (1.19.5)\n"
          ],
          "name": "stdout"
        }
      ]
    },
    {
      "cell_type": "code",
      "metadata": {
        "colab": {
          "base_uri": "https://localhost:8080/"
        },
        "id": "Dp3P2KUh-wVt",
        "outputId": "a5e820a0-f92d-4cf5-d520-f94fe62fd6f2"
      },
      "source": [
        "!pwd"
      ],
      "execution_count": 75,
      "outputs": [
        {
          "output_type": "stream",
          "text": [
            "/content\n"
          ],
          "name": "stdout"
        }
      ]
    },
    {
      "cell_type": "code",
      "metadata": {
        "colab": {
          "base_uri": "https://localhost:8080/"
        },
        "id": "0d2sZT9bC3qM",
        "outputId": "8a482e22-a77b-4339-fd70-6c8b4447c719"
      },
      "source": [
        "import nltk\n",
        "nltk.download('punkt')\n",
        "!python3 processData.py"
      ],
      "execution_count": 81,
      "outputs": [
        {
          "output_type": "stream",
          "text": [
            "[nltk_data] Downloading package punkt to /root/nltk_data...\n",
            "[nltk_data]   Unzipping tokenizers/punkt.zip.\n",
            "loading annotations into memory...\n",
            "Done (t=0.85s)\n",
            "creating index...\n",
            "index created!\n",
            "done resizing images...\n"
          ],
          "name": "stdout"
        }
      ]
    },
    {
      "cell_type": "code",
      "metadata": {
        "colab": {
          "base_uri": "https://localhost:8080/"
        },
        "id": "sMUmI8Y0QwPi",
        "outputId": "cb516bb9-d924-40ed-8f4f-01c09f3cc8d1"
      },
      "source": [
        "!python3 glove_embeds.py"
      ],
      "execution_count": 84,
      "outputs": [
        {
          "output_type": "stream",
          "text": [
            "Traceback (most recent call last):\n",
            "  File \"glove_embeds.py\", line 39, in <module>\n",
            "    vocab = pickle.load(f)\n",
            "AttributeError: Can't get attribute 'Vocabulary' on <module '__main__' from 'glove_embeds.py'>\n"
          ],
          "name": "stdout"
        }
      ]
    },
    {
      "cell_type": "code",
      "metadata": {
        "colab": {
          "base_uri": "https://localhost:8080/"
        },
        "id": "HVn94EEETbHs",
        "outputId": "0fd6aed3-e28d-4323-ec68-d189ef93e755"
      },
      "source": [
        "!pip install data-loader"
      ],
      "execution_count": 86,
      "outputs": [
        {
          "output_type": "stream",
          "text": [
            "Collecting data-loader\n",
            "  Downloading data-loader-0.0.0.0a0.dev20210626.tar.gz (1.0 kB)\n",
            "Building wheels for collected packages: data-loader\n",
            "  Building wheel for data-loader (setup.py) ... \u001b[?25l\u001b[?25hdone\n",
            "  Created wheel for data-loader: filename=data_loader-0.0.0.0a0.dev20210626-py3-none-any.whl size=1450 sha256=f4fdcd3c569104d3ba08beb19592b219ba4eea422fedda0f76c3eeb93af7f4a3\n",
            "  Stored in directory: /root/.cache/pip/wheels/ee/6d/30/599b52cee2d0eac5ca94bbf6ecf234d695e5472a6f54d22f74\n",
            "Successfully built data-loader\n",
            "Installing collected packages: data-loader\n",
            "Successfully installed data-loader-0.0.0.0a0.dev20210626\n"
          ],
          "name": "stdout"
        }
      ]
    },
    {
      "cell_type": "code",
      "metadata": {
        "colab": {
          "base_uri": "https://localhost:8080/"
        },
        "id": "IqysR3VdXwXR",
        "outputId": "1570741a-5f07-41a1-fc6e-1882640988bb"
      },
      "source": [
        "pip install Pillow"
      ],
      "execution_count": 90,
      "outputs": [
        {
          "output_type": "stream",
          "text": [
            "Requirement already satisfied: Pillow in /usr/local/lib/python3.7/dist-packages (7.1.2)\n"
          ],
          "name": "stdout"
        }
      ]
    },
    {
      "cell_type": "code",
      "metadata": {
        "colab": {
          "base_uri": "https://localhost:8080/",
          "height": 799
        },
        "id": "_F0_q-TgYwvw",
        "outputId": "f925876d-7d04-478c-ed4d-2190e5fe288e"
      },
      "source": [
        "!pip install pytorch-pretrained-bert"
      ],
      "execution_count": 98,
      "outputs": [
        {
          "output_type": "stream",
          "text": [
            "Collecting pytorch-pretrained-bert\n",
            "  Downloading pytorch_pretrained_bert-0.6.2-py3-none-any.whl (123 kB)\n",
            "\u001b[K     |████████████████████████████████| 123 kB 7.6 MB/s \n",
            "\u001b[?25hCollecting boto3\n",
            "  Downloading boto3-1.18.21-py3-none-any.whl (131 kB)\n",
            "\u001b[K     |████████████████████████████████| 131 kB 42.4 MB/s \n",
            "\u001b[?25hRequirement already satisfied: regex in /usr/local/lib/python3.7/dist-packages (from pytorch-pretrained-bert) (2019.12.20)\n",
            "Requirement already satisfied: numpy in /usr/local/lib/python3.7/dist-packages (from pytorch-pretrained-bert) (1.19.5)\n",
            "Requirement already satisfied: requests in /usr/local/lib/python3.7/dist-packages (from pytorch-pretrained-bert) (2.13.0)\n",
            "Requirement already satisfied: tqdm in /usr/local/lib/python3.7/dist-packages (from pytorch-pretrained-bert) (4.62.0)\n",
            "Requirement already satisfied: torch>=0.4.1 in /usr/local/lib/python3.7/dist-packages (from pytorch-pretrained-bert) (1.9.0+cu102)\n",
            "Requirement already satisfied: typing-extensions in /usr/local/lib/python3.7/dist-packages (from torch>=0.4.1->pytorch-pretrained-bert) (3.7.4.3)\n",
            "Collecting s3transfer<0.6.0,>=0.5.0\n",
            "  Downloading s3transfer-0.5.0-py3-none-any.whl (79 kB)\n",
            "\u001b[K     |████████████████████████████████| 79 kB 8.7 MB/s \n",
            "\u001b[?25hCollecting jmespath<1.0.0,>=0.7.1\n",
            "  Downloading jmespath-0.10.0-py2.py3-none-any.whl (24 kB)\n",
            "Collecting botocore<1.22.0,>=1.21.21\n",
            "  Downloading botocore-1.21.21-py3-none-any.whl (7.8 MB)\n",
            "\u001b[K     |████████████████████████████████| 7.8 MB 48.6 MB/s \n",
            "\u001b[?25hRequirement already satisfied: python-dateutil<3.0.0,>=2.1 in /usr/local/lib/python3.7/dist-packages (from botocore<1.22.0,>=1.21.21->boto3->pytorch-pretrained-bert) (2.8.2)\n",
            "Collecting urllib3<1.27,>=1.25.4\n",
            "  Downloading urllib3-1.26.6-py2.py3-none-any.whl (138 kB)\n",
            "\u001b[K     |████████████████████████████████| 138 kB 71.7 MB/s \n",
            "\u001b[?25hRequirement already satisfied: six>=1.5 in /usr/local/lib/python3.7/dist-packages (from python-dateutil<3.0.0,>=2.1->botocore<1.22.0,>=1.21.21->boto3->pytorch-pretrained-bert) (1.15.0)\n",
            "Installing collected packages: urllib3, jmespath, botocore, s3transfer, boto3, pytorch-pretrained-bert\n",
            "  Attempting uninstall: urllib3\n",
            "    Found existing installation: urllib3 1.24.3\n",
            "    Uninstalling urllib3-1.24.3:\n",
            "      Successfully uninstalled urllib3-1.24.3\n",
            "Successfully installed boto3-1.18.21 botocore-1.21.21 jmespath-0.10.0 pytorch-pretrained-bert-0.6.2 s3transfer-0.5.0 urllib3-1.26.6\n"
          ],
          "name": "stdout"
        },
        {
          "output_type": "display_data",
          "data": {
            "application/vnd.colab-display-data+json": {
              "pip_warning": {
                "packages": [
                  "urllib3"
                ]
              }
            }
          },
          "metadata": {
            "tags": []
          }
        },
        {
          "output_type": "stream",
          "text": [
            "100% 231508/231508 [00:00<00:00, 940753.71B/s]\n",
            "100% 407873900/407873900 [00:10<00:00, 38242544.09B/s]\n",
            "Traceback (most recent call last):\n",
            "  File \"main.py\", line 87, in <module>\n",
            "    glove_vectors = pickle.load(open('glove.6B/glove_words.pkl', 'rb'))\n",
            "FileNotFoundError: [Errno 2] No such file or directory: 'glove.6B/glove_words.pkl'\n"
          ],
          "name": "stdout"
        }
      ]
    },
    {
      "cell_type": "code",
      "metadata": {
        "colab": {
          "base_uri": "https://localhost:8080/"
        },
        "id": "ThRg0FtEbIdd",
        "outputId": "c407df14-77b4-4c1b-8149-ef3fef1e32a7"
      },
      "source": [
        "#!pip install Vocabulary\n",
        "!python3 glove_embeds.py"
      ],
      "execution_count": 106,
      "outputs": [
        {
          "output_type": "stream",
          "text": [
            "Loading vocab...\n",
            "glove is loaded...\n",
            "Traceback (most recent call last):\n",
            "  File \"glove_embeds.py\", line 50, in <module>\n",
            "    matrix_len = len(vocab)\n",
            "TypeError: object of type 'Vocabulary' has no len()\n"
          ],
          "name": "stdout"
        }
      ]
    }
  ]
}